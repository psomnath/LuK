{
  "cells": [
    {
      "cell_type": "markdown",
      "source": [
        "# 1. Introduction\r\n"
      ],
      "metadata": {
        "nteract": {
          "transient": {
            "deleting": false
          }
        }
      }
    },
    {
      "cell_type": "code",
      "source": [
        "!pip install imutils"
      ],
      "outputs": [],
      "execution_count": null,
      "metadata": {
        "jupyter": {
          "source_hidden": false,
          "outputs_hidden": false
        },
        "nteract": {
          "transient": {
            "deleting": false
          }
        }
      }
    },
    {
      "cell_type": "code",
      "source": [
        "from imutils.object_detection import non_max_suppression\r\n",
        "import typing\r\n",
        "import string\r\n",
        "\r\n",
        "import matplotlib.pylab as plt\r\n",
        "import tensorflow as tf\r\n",
        "from tensorflow import keras\r\n",
        "import numpy as np\r\n",
        "import cv2\r\n",
        "import glob\r\n",
        "import os\r\n",
        "import time\r\n",
        "import hashlib\r\n",
        "\r\n",
        "import urllib.request\r\n",
        "import urllib.parse\r\n",
        "\r\n",
        "tf.__version__"
      ],
      "outputs": [
        {
          "output_type": "execute_result",
          "execution_count": 23,
          "data": {
            "text/plain": "'2.6.2'"
          },
          "metadata": {}
        }
      ],
      "execution_count": 23,
      "metadata": {
        "jupyter": {
          "source_hidden": false,
          "outputs_hidden": false
        },
        "nteract": {
          "transient": {
            "deleting": false
          }
        },
        "gather": {
          "logged": 1640109762200
        }
      }
    },
    {
      "cell_type": "markdown",
      "source": [
        "# 2. Train Detector Model"
      ],
      "metadata": {
        "nteract": {
          "transient": {
            "deleting": false
          }
        }
      }
    },
    {
      "cell_type": "code",
      "source": [
        "dataset_path = 'represent_data/'\r\n",
        "def representative_data_gen():\r\n",
        "    for file in os.listdir(dataset_path):\r\n",
        "        image_path = dataset_path + file\r\n",
        "        input_data = cv2.imread(image_path, cv2.IMREAD_GRAYSCALE)\r\n",
        "        input_data = cv2.resize(input_data, (200, 31))\r\n",
        "        input_data = input_data[np.newaxis]\r\n",
        "        input_data = np.expand_dims(input_data, 3)\r\n",
        "        input_data = input_data.astype('float32')/255\r\n",
        "        yield [input_data]"
      ],
      "outputs": [],
      "execution_count": null,
      "metadata": {
        "jupyter": {
          "source_hidden": false,
          "outputs_hidden": false
        },
        "nteract": {
          "transient": {
            "deleting": false
          }
        }
      }
    },
    {
      "cell_type": "markdown",
      "source": [
        "# 3. Load from previous trained model"
      ],
      "metadata": {
        "nteract": {
          "transient": {
            "deleting": false
          }
        }
      }
    },
    {
      "cell_type": "markdown",
      "source": [
        "## 3.1 Create representative set\r\n",
        "\r\n",
        "In order to use integer quantization we need a representative dataset. We will be using the COCO-Text dataset for this purpose. As the dataset is pretty heavy in size, I have prepapred a small subset of it by sampling 100 training images randomly."
      ],
      "metadata": {
        "nteract": {
          "transient": {
            "deleting": false
          }
        }
      }
    },
    {
      "cell_type": "code",
      "source": [
        "# Download data\r\n",
        "!wget -q https://github.com/sayakpaul/Adventures-in-TensorFlow-Lite/releases/download/v0.11.0/coco_text_100.tar.gz\r\n",
        "!tar xf coco_text_100.tar.gz"
      ],
      "outputs": [],
      "execution_count": 3,
      "metadata": {
        "jupyter": {
          "source_hidden": false,
          "outputs_hidden": false
        },
        "nteract": {
          "transient": {
            "deleting": false
          }
        }
      }
    },
    {
      "cell_type": "code",
      "source": [
        "# Create example array of images\r\n",
        "IMAGE_LIST = list(glob.glob(\"coco_text_100/*.jpg\"))\r\n",
        "IMG_SIZE = 320\r\n",
        "\r\n",
        "def representative_dataset_gen():\r\n",
        "    for image_path in IMAGE_LIST:\r\n",
        "        image = cv2.imread(image_path)\r\n",
        "        image = cv2.resize(image, (IMG_SIZE, IMG_SIZE))\r\n",
        "        image = image.astype(\"float32\")\r\n",
        "        mean = np.array([123.68, 116.779, 103.939][::-1], dtype=\"float32\")\r\n",
        "        image -= mean\r\n",
        "        image = np.expand_dims(image, axis=0)\r\n",
        "        yield [image]"
      ],
      "outputs": [],
      "execution_count": 6,
      "metadata": {
        "jupyter": {
          "source_hidden": false,
          "outputs_hidden": false
        },
        "nteract": {
          "transient": {
            "deleting": false
          }
        },
        "gather": {
          "logged": 1640109230189
        }
      }
    },
    {
      "cell_type": "markdown",
      "source": [
        "## 3.2 OpenCV Text Detection (EAST text detector)"
      ],
      "metadata": {
        "nteract": {
          "transient": {
            "deleting": false
          }
        }
      }
    },
    {
      "cell_type": "code",
      "source": [
        "!wget -q https://github.com/dilhelh/opencv-text-detection/archive/refs/heads/master.zip\r\n",
        "!unzip -qq master.zip"
      ],
      "outputs": [],
      "execution_count": 2,
      "metadata": {
        "jupyter": {
          "source_hidden": false,
          "outputs_hidden": false
        },
        "nteract": {
          "transient": {
            "deleting": false
          }
        }
      }
    },
    {
      "cell_type": "code",
      "source": [
        "def convert_detect_tflite(quantization):\r\n",
        "    converter = tf.compat.v1.lite.TFLiteConverter.from_frozen_graph(\r\n",
        "        graph_def_file='opencv-text-detection-master/frozen_east_text_detection.pb', \r\n",
        "        input_arrays=['input_images'],\r\n",
        "        output_arrays=['feature_fusion/Conv_7/Sigmoid', 'feature_fusion/concat_3'],\r\n",
        "        input_shapes={'input_images': [1, 320, 320, 3]}\r\n",
        "    )\r\n",
        "\r\n",
        "    converter.optimizations = [tf.lite.Optimize.DEFAULT]\r\n",
        "\r\n",
        "    if quantization==\"float64\":\r\n",
        "        converter.target_spec.supported_types = [tf.float64]\r\n",
        "    elif quantization==\"float16\":\r\n",
        "        converter.target_spec.supported_types = [tf.float16]\r\n",
        "    elif quantization==\"int8\":\r\n",
        "        converter.representative_dataset = representative_dataset_gen\r\n",
        "        converter.target_spec.supported_ops = [tf.lite.OpsSet.TFLITE_BUILTINS_INT8]\r\n",
        "        converter.inference_input_type = tf.uint8\r\n",
        "        converter.inference_output_type = tf.uint8\r\n",
        "\r\n",
        "    tflite_model = converter.convert()\r\n",
        "    open('detect_{}.tflite'.format(quantization), 'wb').write(tflite_model)"
      ],
      "outputs": [],
      "execution_count": 7,
      "metadata": {
        "jupyter": {
          "source_hidden": false,
          "outputs_hidden": false
        },
        "nteract": {
          "transient": {
            "deleting": false
          }
        },
        "gather": {
          "logged": 1640109346468
        }
      }
    },
    {
      "cell_type": "code",
      "source": [
        "convert_detect_tflite(\"float64\")\r\n",
        "convert_detect_tflite(\"float16\")\r\n",
        "convert_detect_tflite(\"int8\")"
      ],
      "outputs": [],
      "execution_count": 8,
      "metadata": {
        "jupyter": {
          "source_hidden": false,
          "outputs_hidden": false
        },
        "nteract": {
          "transient": {
            "deleting": false
          }
        },
        "gather": {
          "logged": 1640109453109
        }
      }
    },
    {
      "cell_type": "code",
      "source": [
        "!du -h detect_*.tflite"
      ],
      "outputs": [
        {
          "output_type": "stream",
          "name": "stdout",
          "text": "46M\tdetect_float16.tflite\r\n92M\tdetect_float64.tflite\r\n24M\tdetect_int8.tflite\r\n"
        }
      ],
      "execution_count": 15,
      "metadata": {
        "jupyter": {
          "source_hidden": false,
          "outputs_hidden": false
        },
        "nteract": {
          "transient": {
            "deleting": false
          }
        }
      }
    },
    {
      "cell_type": "markdown",
      "source": [
        "# 4. Convert model to tflite\r\n",
        "\r\n",
        "This takes a tf model and converts the types. For example, it can change doubles to float which will reduce the size of the model by 50%. If doubles are converted to int8, it can reduce the size of the model to 25%.\r\n"
      ],
      "metadata": {
        "nteract": {
          "transient": {
            "deleting": false
          }
        }
      }
    },
    {
      "cell_type": "code",
      "source": [
        "def convert_tflite(model, name, quantization):\r\n",
        "    converter = tf.lite.TFLiteConverter.from_keras_model(model)\r\n",
        "    converter.optimizations = [tf.lite.Optimize.DEFAULT]\r\n",
        "    converter.target_spec.supported_ops = [\r\n",
        "      tf.lite.OpsSet.TFLITE_BUILTINS, # enable TensorFlow Lite ops.\r\n",
        "      tf.lite.OpsSet.SELECT_TF_OPS # enable TensorFlow ops.\r\n",
        "    ]\r\n",
        "    if quantization == 'float16':\r\n",
        "        converter.target_spec.supported_types = [tf.float16]\r\n",
        "    elif quantization == 'int8':\r\n",
        "        converter.representative_dataset = representative_data_gen\r\n",
        "        converter.target_spec.supported_ops = [tf.lite.OpsSet.TFLITE_BUILTINS_INT8]\r\n",
        "        converter.inference_input_type = tf.int8  # or tf.uint8\r\n",
        "        converter.inference_output_type = tf.int8  # or tf.uint8\r\n",
        "    tf_lite_model = converter.convert()\r\n",
        "    open(f'{name}_{quantization}.tflite', 'wb').write(tf_lite_model)"
      ],
      "outputs": [],
      "execution_count": null,
      "metadata": {
        "jupyter": {
          "source_hidden": false,
          "outputs_hidden": false
        },
        "nteract": {
          "transient": {
            "deleting": false
          }
        }
      }
    },
    {
      "cell_type": "markdown",
      "source": [
        "# 5. Convert from tflite to cc array\r\n",
        "\r\n",
        "A tflite file is not runable from ESP32 or other microprocessor. In order to call the model, it needs to be converted to an array to be read in by the tflite libraries.\r\n",
        "\r\n",
        "xxd converts the model to a hex representation."
      ],
      "metadata": {
        "nteract": {
          "transient": {
            "deleting": false
          }
        }
      }
    },
    {
      "cell_type": "code",
      "source": [
        "!xxd -i recognize_float16.tflite > recognize_float16.cc"
      ],
      "outputs": [],
      "execution_count": null,
      "metadata": {
        "jupyter": {
          "source_hidden": false,
          "outputs_hidden": false
        },
        "nteract": {
          "transient": {
            "deleting": false
          }
        }
      }
    },
    {
      "cell_type": "code",
      "source": [
        "!xxd -i detect_float64.tflite > detect_float64.cc\r\n",
        "!xxd -i detect_float16.tflite > detect_float16.cc\r\n",
        "!xxd -i detect_int8.tflite > detect_int8.cc"
      ],
      "outputs": [],
      "execution_count": 33,
      "metadata": {
        "jupyter": {
          "source_hidden": false,
          "outputs_hidden": false
        },
        "nteract": {
          "transient": {
            "deleting": false
          }
        }
      }
    },
    {
      "cell_type": "code",
      "source": [
        "!du -h detect_*.cc"
      ],
      "outputs": [
        {
          "output_type": "stream",
          "name": "stdout",
          "text": "284M\tdetect_float16.cc\r\n566M\tdetect_float64.cc\r\n146M\tdetect_int8.cc\r\n"
        }
      ],
      "execution_count": 34,
      "metadata": {
        "jupyter": {
          "source_hidden": false,
          "outputs_hidden": false
        },
        "nteract": {
          "transient": {
            "deleting": false
          }
        }
      }
    },
    {
      "cell_type": "markdown",
      "source": [
        "# 6. Test model with real examples\r\n",
        "\r\n",
        "Test with some example images. They need to be preprocessed to update size and then run through model."
      ],
      "metadata": {
        "nteract": {
          "transient": {
            "deleting": false
          }
        }
      }
    },
    {
      "cell_type": "code",
      "source": [
        "def preprocess_image(image_path):\r\n",
        "    # load the input image and grab the image dimensions\r\n",
        "    image = cv2.imread(image_path)\r\n",
        "    orig = image.copy()\r\n",
        "    (H, W) = image.shape[:2]\r\n",
        "    \r\n",
        "    # set the new width and height and then determine the ratio in change\r\n",
        "    # for both the width and height\r\n",
        "    (newW, newH) = (320, 320)\r\n",
        "    rW = W / float(newW)\r\n",
        "    rH = H / float(newH)\r\n",
        "\r\n",
        "    # resize the image and grab the new image dimensions\r\n",
        "    image = cv2.resize(image, (newW, newH))\r\n",
        "    (H, W) = image.shape[:2]\r\n",
        "\r\n",
        "    plt.imshow(image)\r\n",
        "    # convert the image to a floating point data type and perform mean\r\n",
        "    # subtraction\r\n",
        "    image = image.astype(\"float32\")\r\n",
        "    mean = np.array([123.68, 116.779, 103.939][::-1], dtype=\"float32\")\r\n",
        "    image -= mean\r\n",
        "    image = np.expand_dims(image, 0)\r\n",
        "    return image, orig, rW, rH"
      ],
      "outputs": [],
      "execution_count": 37,
      "metadata": {
        "jupyter": {
          "source_hidden": false,
          "outputs_hidden": false
        },
        "nteract": {
          "transient": {
            "deleting": false
          }
        },
        "gather": {
          "logged": 1640110201180
        }
      }
    },
    {
      "cell_type": "code",
      "source": [
        "def perform_inference(tflite_path, preprocessed_image):\r\n",
        "    interpreter = tf.lite.Interpreter(model_path=tflite_path)\r\n",
        "    input_details = interpreter.get_input_details()\r\n",
        "    \r\n",
        "    if input_details[0][\"dtype\"]==np.uint8:\r\n",
        "        print(\"Integer quantization!\")\r\n",
        "        input_scale, input_zero_point = input_details[0][\"quantization\"]\r\n",
        "        preprocessed_image = preprocessed_image / input_scale + input_zero_point\r\n",
        "    preprocessed_image = preprocessed_image.astype(input_details[0][\"dtype\"])\r\n",
        "    interpreter.allocate_tensors()\r\n",
        "    interpreter.set_tensor(input_details[0]['index'], preprocessed_image)\r\n",
        "\r\n",
        "    start = time.time()\r\n",
        "    interpreter.invoke()\r\n",
        "    print(f\"Inference took: {time.time()-start} seconds\")\r\n",
        "\r\n",
        "    scores = interpreter.tensor(\r\n",
        "        interpreter.get_output_details()[0]['index'])()\r\n",
        "    geometry = interpreter.tensor(\r\n",
        "        interpreter.get_output_details()[1]['index'])()\r\n",
        "\r\n",
        "    return scores, geometry"
      ],
      "outputs": [],
      "execution_count": 38,
      "metadata": {
        "jupyter": {
          "source_hidden": false,
          "outputs_hidden": false
        },
        "nteract": {
          "transient": {
            "deleting": false
          }
        },
        "gather": {
          "logged": 1640110202174
        }
      }
    },
    {
      "cell_type": "code",
      "source": [
        "def post_process(score, geo, ratioW, ratioH, original):\r\n",
        "    # grab the number of rows and columns from the scores volume, then\r\n",
        "    # initialize our set of bounding box rectangles and corresponding\r\n",
        "    # confidence scores\r\n",
        "    (numRows, numCols) = scores.shape[2:4]\r\n",
        "    rects = []\r\n",
        "    confidences = []\r\n",
        "\r\n",
        "    # loop over the number of rows\r\n",
        "    for y in range(0, numRows):\r\n",
        "        # extract the scores (probabilities), followed by the geometrical\r\n",
        "        # data used to derive potential bounding box coordinates that\r\n",
        "        # surround text\r\n",
        "        scoresData = scores[0, 0, y]\r\n",
        "        xData0 = geometry[0, 0, y]\r\n",
        "        xData1 = geometry[0, 1, y]\r\n",
        "        xData2 = geometry[0, 2, y]\r\n",
        "        xData3 = geometry[0, 3, y]\r\n",
        "        anglesData = geometry[0, 4, y]\r\n",
        "\r\n",
        "        # loop over the number of columns\r\n",
        "        for x in range(0, numCols):\r\n",
        "            # if our score does not have sufficient probability, ignore it\r\n",
        "            if scoresData[x] < 0.5:\r\n",
        "                continue\r\n",
        "            print(\"HERE\")\r\n",
        "            # compute the offset factor as our resulting feature maps will\r\n",
        "            # be 4x smaller than the input image\r\n",
        "            (offsetX, offsetY) = (x * 4.0, y * 4.0)\r\n",
        "\r\n",
        "            # extract the rotation angle for the prediction and then\r\n",
        "            # compute the sin and cosine\r\n",
        "            angle = anglesData[x]\r\n",
        "            cos = np.cos(angle)\r\n",
        "            sin = np.sin(angle)\r\n",
        "\r\n",
        "            # use the geometry volume to derive the width and height of\r\n",
        "            # the bounding box\r\n",
        "            h = xData0[x] + xData2[x]\r\n",
        "            w = xData1[x] + xData3[x]\r\n",
        "\r\n",
        "            # compute both the starting and ending (x, y)-coordinates for\r\n",
        "            # the text prediction bounding box\r\n",
        "            endX = int(offsetX + (cos * xData1[x]) + (sin * xData2[x]))\r\n",
        "            endY = int(offsetY - (sin * xData1[x]) + (cos * xData2[x]))\r\n",
        "            startX = int(endX - w)\r\n",
        "            startY = int(endY - h)\r\n",
        "\r\n",
        "            # add the bounding box coordinates and probability score to\r\n",
        "            # our respective lists\r\n",
        "            rects.append((startX, startY, endX, endY))\r\n",
        "            confidences.append(scoresData[x])\r\n",
        "\r\n",
        "    # apply non-maxima suppression to suppress weak, overlapping bounding\r\n",
        "    # boxes\r\n",
        "    boxes = non_max_suppression(np.array(rects), probs=confidences)\r\n",
        "\r\n",
        "    # loop over the bounding boxes\r\n",
        "    for (startX, startY, endX, endY) in boxes:\r\n",
        "        # scale the bounding box coordinates based on the respective\r\n",
        "        # ratios\r\n",
        "        startX = int(startX * ratioW)\r\n",
        "        startY = int(startY * ratioH)\r\n",
        "        endX = int(endX * ratioW)\r\n",
        "        endY = int(endY * ratioH)\r\n",
        "\r\n",
        "        # draw the bounding box on the image\r\n",
        "        cv2.rectangle(original, (startX, startY), (endX, endY), (0, 255, 0), 2)\r\n",
        "\r\n",
        "    # show the output image\r\n",
        "    plt.imshow(original)"
      ],
      "outputs": [],
      "execution_count": 43,
      "metadata": {
        "jupyter": {
          "source_hidden": false,
          "outputs_hidden": false
        },
        "nteract": {
          "transient": {
            "deleting": false
          }
        },
        "gather": {
          "logged": 1640110232203
        }
      }
    },
    {
      "cell_type": "code",
      "source": [
        "# Test detect\r\n",
        "test_image = \"opencv-text-detection-master/images/sign.jpg\"\r\n",
        "quantization = \"float64\" #@param [\"float64\", \"float16\", \"int8\"]\r\n",
        "image, orig, rW, rH = preprocess_image(test_image)\r\n",
        "scores, geometry = perform_inference(tflite_path=f'detect_{quantization}.tflite',\r\n",
        "                                     preprocessed_image=image)\r\n",
        "post_process(scores, geometry, rW, rH, orig)"
      ],
      "outputs": [
        {
          "output_type": "stream",
          "name": "stdout",
          "text": "Inference took: 0.5356948375701904 seconds\n"
        },
        {
          "output_type": "display_data",
          "data": {
            "text/plain": "<Figure size 432x288 with 1 Axes>",
            "image/png": "[encoded data removed]"
          },
          "metadata": {
            "needs_background": "light"
          }
        }
      ],
      "execution_count": 44,
      "metadata": {
        "jupyter": {
          "source_hidden": false,
          "outputs_hidden": false
        },
        "nteract": {
          "transient": {
            "deleting": false
          }
        },
        "gather": {
          "logged": 1640110234131
        }
      }
    },
    {
      "cell_type": "code",
      "source": [],
      "outputs": [],
      "execution_count": null,
      "metadata": {
        "jupyter": {
          "source_hidden": false,
          "outputs_hidden": false
        },
        "nteract": {
          "transient": {
            "deleting": false
          }
        }
      }
    }
  ],
  "metadata": {
    "kernelspec": {
      "name": "python3-azureml",
      "language": "python",
      "display_name": "Python 3.6 - AzureML"
    },
    "language_info": {
      "name": "python",
      "version": "3.6.9",
      "mimetype": "text/x-python",
      "codemirror_mode": {
        "name": "ipython",
        "version": 3
      },
      "pygments_lexer": "ipython3",
      "nbconvert_exporter": "python",
      "file_extension": ".py"
    },
    "kernel_info": {
      "name": "python3-azureml"
    },
    "nteract": {
      "version": "nteract-front-end@1.0.0"
    }
  },
  "nbformat": 4,
  "nbformat_minor": 0
}